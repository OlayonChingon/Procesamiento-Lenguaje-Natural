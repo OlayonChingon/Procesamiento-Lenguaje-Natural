{
 "cells": [
  {
   "cell_type": "markdown",
   "id": "c3816075-d4e4-4a2c-80fc-992aded6205a",
   "metadata": {},
   "source": [
    "![PLN](src/PLN.png)"
   ]
  },
  {
   "cell_type": "markdown",
   "id": "2b6be52a-08dd-4af6-a62c-ed3c74157169",
   "metadata": {},
   "source": [
    "# Curso de Fundamentos de Procesamiento de Lenguaje Natural con Python y NLTK"
   ]
  },
  {
   "cell_type": "markdown",
   "id": "43b54cf7-a780-4250-baeb-8ecce338ae2d",
   "metadata": {},
   "source": [
    "\n",
    "- [Curso de Fundamentos de Procesamiento de Lenguaje Natural con Python y NLTK](#curso-de-fundamentos-de-procesamiento-de-lenguaje-natural-con-python-y-nltk)\n",
    "  - [Modulo 1 Introducción al Procesamiento de Lenguaje Natural](#modulo-1-introducción-al-procesamiento-de-lenguaje-natural)\n",
    "    - [Clase 1 Introducción al Procesamiento de Lenguaje Natural](#clase-1-introducción-al-procesamiento-de-lenguaje-natural)\n",
    "      - [Introduccion al NLP: Perspectivas y estado del arte](#introduccion-al-nlp-perspectivas-y-estado-del-arte)\n",
    "      - [NLP es el camino hacia el ideal de I.A.](#nlp-es-el-camino-hacia-el-ideal-de-ia)\n",
    "      - [NLP y el Estado del Arte](#nlp-y-el-estado-del-arte)\n",
    "    - [Clase 2 Evolucion del NLP](#clase-2-evolucion-del-nlp)\n",
    "    - [Clase 3 Conceptos básicos de NLP](#clase-3-conceptos-básicos-de-nlp)\n",
    "  - [Modulo 2 Fundamentos con NLTK](#modulo-2-fundamentos-con-nltk)\n",
    "    - [Clase 4 Configurar ambiente de trabajo](#clase-4-configurar-ambiente-de-trabajo)\n",
    "    - [Clase 5 Palabras, textos y vocabularios](#clase-5-palabras-textos-y-vocabularios)\n",
    "    - [Clase 6 Tokenizacion con Expresiones Regulares](#clase-6-tokenizacion-con-expresiones-regulares)\n",
    "    - [Clase 7 Estadisticas basicas del lenguaje](#clase-7-estadisticas-basicas-del-lenguaje)\n",
    "    - [Clase 8 Distribuciónes de frecuencia de palabras](#clase-8-distribuciónes-de-frecuencia-de-palabras)\n",
    "    - [Clase 9 Refinamiento y visualización de cuerpos de texto](#clase-9-refinamiento-y-visualización-de-cuerpos-de-texto)\n",
    "    - [Clase 10 N-gramas y Colocaciones del lenguaje](#clase-10-n-gramas-y-colocaciones-del-lenguaje)\n",
    "      - [N-gramas](#n-gramas)\n",
    "      - [Colocaciones](#colocaciones)\n",
    "    - [Clase 11 Como extraer n-gramas de un texto en Python](#clase-11-como-extraer-n-gramas-de-un-texto-en-python)\n",
    "    - [Clase 12 Colocaciones en Python](#clase-12-colocaciones-en-python)\n",
    "    - [Clase 13 Colocaciones en gráficos de dispersion](#clase-13-colocaciones-en-gráficos-de-dispersion)\n",
    "    - [Clase 14 Filtros y colocaciones en NLTK](#clase-14-filtros-y-colocaciones-en-nltk)\n",
    "    - [Clase 15 Introduccion a los recursos lexicos](#clase-15-introduccion-a-los-recursos-lexicos)\n",
    "    - [Clase 16 Recursos lexicos en NLTK](#clase-16-recursos-lexicos-en-nltk)\n",
    "    - [Clase 17 NLTK para traduccion de palabras](#clase-17-nltk-para-traduccion-de-palabras)\n",
    "    - [Clase 18 Introduccion a WordNet](#clase-18-introduccion-a-wordnet)\n",
    "    - [Clase 19 Explorando WordNet](#clase-19-explorando-wordnet)\n",
    "    - [Clase 20 Similitud Semantica con WordNet](#clase-20-similitud-semantica-con-wordnet)\n",
    "    - [Clase 21 Procesamiento de texto plano desde Web](#clase-21-procesamiento-de-texto-plano-desde-web)\n",
    "    - [Clase 22 Usando codigo estructurado: conexión de Drive a Google Colab](#clase-22-usando-codigo-estructurado-conexión-de-drive-a-google-colab)\n",
    "    - [Clase 23 Usando codigo estructurado: Funciones externas](#clase-23-usando-codigo-estructurado-funciones-externas)\n",
    "    - [Recursos adicionales](#recursos-adicionales)\n"
   ]
  },
  {
   "cell_type": "markdown",
   "id": "47e45fec-eba4-49c8-bb53-46cb3cd71741",
   "metadata": {},
   "source": [
    "## Modulo 1 Introducción al Procesamiento de Lenguaje Natural"
   ]
  },
  {
   "cell_type": "markdown",
   "id": "c122b6dc-3312-4b65-8d28-e7a5ecca365a",
   "metadata": {},
   "source": [
    "### Clase 1 Introducción al Procesamiento de Lenguaje Natural"
   ]
  },
  {
   "cell_type": "markdown",
   "id": "c10017b2-3404-447b-ae1c-5791b4a31c3a",
   "metadata": {},
   "source": [
    "#### Introduccion al NLP: Perspectivas y estado del arte"
   ]
  },
  {
   "cell_type": "markdown",
   "id": "af0476cf-ff2d-4a5b-89d6-0189b46f5e1c",
   "metadata": {},
   "source": [
    "#### NLP es el camino hacia el ideal de I.A."
   ]
  },
  {
   "cell_type": "markdown",
   "id": "fecc2daf-d47a-412e-b5e1-01bf331bd393",
   "metadata": {},
   "source": [
    "Antes de iniciar debemos comprender dos definiciones:\n",
    "\n",
    "**NLP:** Natural Language Processing\n",
    "\n",
    "**NLU:** Natural Language Understanding\n",
    "\n",
    "NLP es un area que combina lo siguiente:\n",
    "\n",
    "- Ciencias de la computación\n",
    "- Inteligencia Artificial\n",
    "- Lenguajes de Programación\n"
   ]
  },
  {
   "cell_type": "markdown",
   "id": "fc46ba07-17de-4879-99df-85672d0dbdde",
   "metadata": {},
   "source": [
    "Esto para entender como se dan las interacciones entre humanos y maquinas a traves del language natural que usamos los humanos para comunicarnos, dentro de esta area esta el NLU como un area mas pequeña que se encarga de tareas especificas que las maquinas puedan ejecutar en el proceso de comunicación con los seres humanos de manera que esas tareas reflejen que el robot no solo puede procesar nuestro lenguaje sino también lo puede entender, y en la medida que nos da respuestas, esas respuestas deben reflejar la comprensión que tiene de nuestro lenguaje"
   ]
  },
  {
   "cell_type": "code",
   "execution_count": null,
   "id": "36d2b968-396f-4ae5-a36f-833f5136cce2",
   "metadata": {},
   "outputs": [],
   "source": []
  }
 ],
 "metadata": {
  "kernelspec": {
   "display_name": "Python 3 (ipykernel)",
   "language": "python",
   "name": "python3"
  },
  "language_info": {
   "codemirror_mode": {
    "name": "ipython",
    "version": 3
   },
   "file_extension": ".py",
   "mimetype": "text/x-python",
   "name": "python",
   "nbconvert_exporter": "python",
   "pygments_lexer": "ipython3",
   "version": "3.10.10"
  }
 },
 "nbformat": 4,
 "nbformat_minor": 5
}
